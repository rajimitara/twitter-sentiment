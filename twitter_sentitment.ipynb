{
  "nbformat": 4,
  "nbformat_minor": 0,
  "metadata": {
    "colab": {
      "name": "twitter_sentitment.ipynb",
      "provenance": [],
      "collapsed_sections": [],
      "toc_visible": true,
      "authorship_tag": "ABX9TyOaEokctn5Y6ldZWcl+YK+T",
      "include_colab_link": true
    },
    "kernelspec": {
      "name": "python3",
      "display_name": "Python 3"
    },
    "language_info": {
      "name": "python"
    }
  },
  "cells": [
    {
      "cell_type": "markdown",
      "metadata": {
        "id": "view-in-github",
        "colab_type": "text"
      },
      "source": [
        "<a href=\"https://colab.research.google.com/github/rajimitara/twitter-sentiment/blob/main/twitter_sentitment.ipynb\" target=\"_parent\"><img src=\"https://colab.research.google.com/assets/colab-badge.svg\" alt=\"Open In Colab\"/></a>"
      ]
    },
    {
      "cell_type": "markdown",
      "source": [
        "**Text classifier**"
      ],
      "metadata": {
        "id": "OL2OoKd7MYx2"
      }
    },
    {
      "cell_type": "code",
      "source": [
        "import nltk\n",
        "nltk.download('all')"
      ],
      "metadata": {
        "id": "0XNOyIkkVLjS"
      },
      "execution_count": null,
      "outputs": []
    },
    {
      "cell_type": "code",
      "source": [
        "import numpy as np\n",
        "import pandas as pd\n",
        "import re"
      ],
      "metadata": {
        "id": "Ix1zkXXOggJU"
      },
      "execution_count": 7,
      "outputs": []
    },
    {
      "cell_type": "code",
      "source": [
        "dataset = pd.read_csv('https://raw.githubusercontent.com/rajimitara/twitter-sentiment/main/Corona_NLP_train.csv')"
      ],
      "metadata": {
        "id": "MAbX1IZOgn_f"
      },
      "execution_count": 74,
      "outputs": []
    },
    {
      "cell_type": "code",
      "source": [
        "#Get kaggle data for twitter sentiment on vaccine\n",
        "dataset.head(20)"
      ],
      "metadata": {
        "id": "DeAbiik7VIX5",
        "colab": {
          "base_uri": "https://localhost:8080/",
          "height": 669
        },
        "outputId": "cc1b27bf-c3fd-409e-bcd6-b65973f09815"
      },
      "execution_count": 135,
      "outputs": [
        {
          "output_type": "execute_result",
          "data": {
            "text/plain": [
              "    UserName  ScreenName                   Location     TweetAt  \\\n",
              "0       3799       48751                     London  16-03-2020   \n",
              "1       3800       48752                         UK  16-03-2020   \n",
              "2       3801       48753                  Vagabonds  16-03-2020   \n",
              "3       3802       48754                        NaN  16-03-2020   \n",
              "4       3803       48755                        NaN  16-03-2020   \n",
              "5       3804       48756  ÃT: 36.319708,-82.363649  16-03-2020   \n",
              "6       3805       48757       35.926541,-78.753267  16-03-2020   \n",
              "7       3806       48758                    Austria  16-03-2020   \n",
              "8       3807       48759            Atlanta, GA USA  16-03-2020   \n",
              "9       3808       48760           BHAVNAGAR,GUJRAT  16-03-2020   \n",
              "10      3809       48761             Makati, Manila  16-03-2020   \n",
              "11      3810       48762  Pitt Meadows, BC, Canada   16-03-2020   \n",
              "12      3811       48763                 Horningsea  16-03-2020   \n",
              "13      3812       48764                Chicago, IL  16-03-2020   \n",
              "14      3813       48765                        NaN  16-03-2020   \n",
              "15      3814       48766             Houston, Texas  16-03-2020   \n",
              "16      3815       48767               Saudi Arabia  16-03-2020   \n",
              "17      3816       48768            Ontario, Canada  16-03-2020   \n",
              "18      3817       48769              North America  16-03-2020   \n",
              "19      3818       48770                 Denver, CO  16-03-2020   \n",
              "\n",
              "                                        OriginalTweet           Sentiment  \n",
              "0   @MeNyrbie @Phil_Gahan @Chrisitv https://t.co/i...             Neutral  \n",
              "1   advice Talk to your neighbours family to excha...            Positive  \n",
              "2   Coronavirus Australia: Woolworths to give elde...            Positive  \n",
              "3   My food stock is not the only one which is emp...            Positive  \n",
              "4   Me, ready to go at supermarket during the #COV...  Extremely Negative  \n",
              "5   As news of the regionÂs first confirmed COVID...            Positive  \n",
              "6   Cashier at grocery store was sharing his insig...            Positive  \n",
              "7   Was at the supermarket today. Didn't buy toile...             Neutral  \n",
              "8   Due to COVID-19 our retail store and classroom...            Positive  \n",
              "9   For corona prevention,we should stop to buy th...            Negative  \n",
              "10  All month there hasn't been crowding in the su...             Neutral  \n",
              "11  Due to the Covid-19 situation, we have increas...  Extremely Positive  \n",
              "12  #horningsea is a caring community. LetÂs ALL ...  Extremely Positive  \n",
              "13  Me: I don't need to stock up on food, I'll jus...            Positive  \n",
              "14  ADARA Releases COVID-19 Resource Center for Tr...            Positive  \n",
              "15  Lines at the grocery store have been unpredict...            Positive  \n",
              "16  ????? ????? ????? ????? ??\\r\\n\\r\\n?????? ?????...             Neutral  \n",
              "17  @eyeonthearctic 16MAR20 Russia consumer survei...             Neutral  \n",
              "18  Amazon Glitch Stymies Whole Foods, Fresh Groce...  Extremely Positive  \n",
              "19  For those who aren't struggling, please consid...            Positive  "
            ],
            "text/html": [
              "\n",
              "  <div id=\"df-dc8a3e85-984c-4c1b-96e2-106973e363ee\">\n",
              "    <div class=\"colab-df-container\">\n",
              "      <div>\n",
              "<style scoped>\n",
              "    .dataframe tbody tr th:only-of-type {\n",
              "        vertical-align: middle;\n",
              "    }\n",
              "\n",
              "    .dataframe tbody tr th {\n",
              "        vertical-align: top;\n",
              "    }\n",
              "\n",
              "    .dataframe thead th {\n",
              "        text-align: right;\n",
              "    }\n",
              "</style>\n",
              "<table border=\"1\" class=\"dataframe\">\n",
              "  <thead>\n",
              "    <tr style=\"text-align: right;\">\n",
              "      <th></th>\n",
              "      <th>UserName</th>\n",
              "      <th>ScreenName</th>\n",
              "      <th>Location</th>\n",
              "      <th>TweetAt</th>\n",
              "      <th>OriginalTweet</th>\n",
              "      <th>Sentiment</th>\n",
              "    </tr>\n",
              "  </thead>\n",
              "  <tbody>\n",
              "    <tr>\n",
              "      <th>0</th>\n",
              "      <td>3799</td>\n",
              "      <td>48751</td>\n",
              "      <td>London</td>\n",
              "      <td>16-03-2020</td>\n",
              "      <td>@MeNyrbie @Phil_Gahan @Chrisitv https://t.co/i...</td>\n",
              "      <td>Neutral</td>\n",
              "    </tr>\n",
              "    <tr>\n",
              "      <th>1</th>\n",
              "      <td>3800</td>\n",
              "      <td>48752</td>\n",
              "      <td>UK</td>\n",
              "      <td>16-03-2020</td>\n",
              "      <td>advice Talk to your neighbours family to excha...</td>\n",
              "      <td>Positive</td>\n",
              "    </tr>\n",
              "    <tr>\n",
              "      <th>2</th>\n",
              "      <td>3801</td>\n",
              "      <td>48753</td>\n",
              "      <td>Vagabonds</td>\n",
              "      <td>16-03-2020</td>\n",
              "      <td>Coronavirus Australia: Woolworths to give elde...</td>\n",
              "      <td>Positive</td>\n",
              "    </tr>\n",
              "    <tr>\n",
              "      <th>3</th>\n",
              "      <td>3802</td>\n",
              "      <td>48754</td>\n",
              "      <td>NaN</td>\n",
              "      <td>16-03-2020</td>\n",
              "      <td>My food stock is not the only one which is emp...</td>\n",
              "      <td>Positive</td>\n",
              "    </tr>\n",
              "    <tr>\n",
              "      <th>4</th>\n",
              "      <td>3803</td>\n",
              "      <td>48755</td>\n",
              "      <td>NaN</td>\n",
              "      <td>16-03-2020</td>\n",
              "      <td>Me, ready to go at supermarket during the #COV...</td>\n",
              "      <td>Extremely Negative</td>\n",
              "    </tr>\n",
              "    <tr>\n",
              "      <th>5</th>\n",
              "      <td>3804</td>\n",
              "      <td>48756</td>\n",
              "      <td>ÃT: 36.319708,-82.363649</td>\n",
              "      <td>16-03-2020</td>\n",
              "      <td>As news of the regionÂs first confirmed COVID...</td>\n",
              "      <td>Positive</td>\n",
              "    </tr>\n",
              "    <tr>\n",
              "      <th>6</th>\n",
              "      <td>3805</td>\n",
              "      <td>48757</td>\n",
              "      <td>35.926541,-78.753267</td>\n",
              "      <td>16-03-2020</td>\n",
              "      <td>Cashier at grocery store was sharing his insig...</td>\n",
              "      <td>Positive</td>\n",
              "    </tr>\n",
              "    <tr>\n",
              "      <th>7</th>\n",
              "      <td>3806</td>\n",
              "      <td>48758</td>\n",
              "      <td>Austria</td>\n",
              "      <td>16-03-2020</td>\n",
              "      <td>Was at the supermarket today. Didn't buy toile...</td>\n",
              "      <td>Neutral</td>\n",
              "    </tr>\n",
              "    <tr>\n",
              "      <th>8</th>\n",
              "      <td>3807</td>\n",
              "      <td>48759</td>\n",
              "      <td>Atlanta, GA USA</td>\n",
              "      <td>16-03-2020</td>\n",
              "      <td>Due to COVID-19 our retail store and classroom...</td>\n",
              "      <td>Positive</td>\n",
              "    </tr>\n",
              "    <tr>\n",
              "      <th>9</th>\n",
              "      <td>3808</td>\n",
              "      <td>48760</td>\n",
              "      <td>BHAVNAGAR,GUJRAT</td>\n",
              "      <td>16-03-2020</td>\n",
              "      <td>For corona prevention,we should stop to buy th...</td>\n",
              "      <td>Negative</td>\n",
              "    </tr>\n",
              "    <tr>\n",
              "      <th>10</th>\n",
              "      <td>3809</td>\n",
              "      <td>48761</td>\n",
              "      <td>Makati, Manila</td>\n",
              "      <td>16-03-2020</td>\n",
              "      <td>All month there hasn't been crowding in the su...</td>\n",
              "      <td>Neutral</td>\n",
              "    </tr>\n",
              "    <tr>\n",
              "      <th>11</th>\n",
              "      <td>3810</td>\n",
              "      <td>48762</td>\n",
              "      <td>Pitt Meadows, BC, Canada</td>\n",
              "      <td>16-03-2020</td>\n",
              "      <td>Due to the Covid-19 situation, we have increas...</td>\n",
              "      <td>Extremely Positive</td>\n",
              "    </tr>\n",
              "    <tr>\n",
              "      <th>12</th>\n",
              "      <td>3811</td>\n",
              "      <td>48763</td>\n",
              "      <td>Horningsea</td>\n",
              "      <td>16-03-2020</td>\n",
              "      <td>#horningsea is a caring community. LetÂs ALL ...</td>\n",
              "      <td>Extremely Positive</td>\n",
              "    </tr>\n",
              "    <tr>\n",
              "      <th>13</th>\n",
              "      <td>3812</td>\n",
              "      <td>48764</td>\n",
              "      <td>Chicago, IL</td>\n",
              "      <td>16-03-2020</td>\n",
              "      <td>Me: I don't need to stock up on food, I'll jus...</td>\n",
              "      <td>Positive</td>\n",
              "    </tr>\n",
              "    <tr>\n",
              "      <th>14</th>\n",
              "      <td>3813</td>\n",
              "      <td>48765</td>\n",
              "      <td>NaN</td>\n",
              "      <td>16-03-2020</td>\n",
              "      <td>ADARA Releases COVID-19 Resource Center for Tr...</td>\n",
              "      <td>Positive</td>\n",
              "    </tr>\n",
              "    <tr>\n",
              "      <th>15</th>\n",
              "      <td>3814</td>\n",
              "      <td>48766</td>\n",
              "      <td>Houston, Texas</td>\n",
              "      <td>16-03-2020</td>\n",
              "      <td>Lines at the grocery store have been unpredict...</td>\n",
              "      <td>Positive</td>\n",
              "    </tr>\n",
              "    <tr>\n",
              "      <th>16</th>\n",
              "      <td>3815</td>\n",
              "      <td>48767</td>\n",
              "      <td>Saudi Arabia</td>\n",
              "      <td>16-03-2020</td>\n",
              "      <td>????? ????? ????? ????? ??\\r\\n\\r\\n?????? ?????...</td>\n",
              "      <td>Neutral</td>\n",
              "    </tr>\n",
              "    <tr>\n",
              "      <th>17</th>\n",
              "      <td>3816</td>\n",
              "      <td>48768</td>\n",
              "      <td>Ontario, Canada</td>\n",
              "      <td>16-03-2020</td>\n",
              "      <td>@eyeonthearctic 16MAR20 Russia consumer survei...</td>\n",
              "      <td>Neutral</td>\n",
              "    </tr>\n",
              "    <tr>\n",
              "      <th>18</th>\n",
              "      <td>3817</td>\n",
              "      <td>48769</td>\n",
              "      <td>North America</td>\n",
              "      <td>16-03-2020</td>\n",
              "      <td>Amazon Glitch Stymies Whole Foods, Fresh Groce...</td>\n",
              "      <td>Extremely Positive</td>\n",
              "    </tr>\n",
              "    <tr>\n",
              "      <th>19</th>\n",
              "      <td>3818</td>\n",
              "      <td>48770</td>\n",
              "      <td>Denver, CO</td>\n",
              "      <td>16-03-2020</td>\n",
              "      <td>For those who aren't struggling, please consid...</td>\n",
              "      <td>Positive</td>\n",
              "    </tr>\n",
              "  </tbody>\n",
              "</table>\n",
              "</div>\n",
              "      <button class=\"colab-df-convert\" onclick=\"convertToInteractive('df-dc8a3e85-984c-4c1b-96e2-106973e363ee')\"\n",
              "              title=\"Convert this dataframe to an interactive table.\"\n",
              "              style=\"display:none;\">\n",
              "        \n",
              "  <svg xmlns=\"http://www.w3.org/2000/svg\" height=\"24px\"viewBox=\"0 0 24 24\"\n",
              "       width=\"24px\">\n",
              "    <path d=\"M0 0h24v24H0V0z\" fill=\"none\"/>\n",
              "    <path d=\"M18.56 5.44l.94 2.06.94-2.06 2.06-.94-2.06-.94-.94-2.06-.94 2.06-2.06.94zm-11 1L8.5 8.5l.94-2.06 2.06-.94-2.06-.94L8.5 2.5l-.94 2.06-2.06.94zm10 10l.94 2.06.94-2.06 2.06-.94-2.06-.94-.94-2.06-.94 2.06-2.06.94z\"/><path d=\"M17.41 7.96l-1.37-1.37c-.4-.4-.92-.59-1.43-.59-.52 0-1.04.2-1.43.59L10.3 9.45l-7.72 7.72c-.78.78-.78 2.05 0 2.83L4 21.41c.39.39.9.59 1.41.59.51 0 1.02-.2 1.41-.59l7.78-7.78 2.81-2.81c.8-.78.8-2.07 0-2.86zM5.41 20L4 18.59l7.72-7.72 1.47 1.35L5.41 20z\"/>\n",
              "  </svg>\n",
              "      </button>\n",
              "      \n",
              "  <style>\n",
              "    .colab-df-container {\n",
              "      display:flex;\n",
              "      flex-wrap:wrap;\n",
              "      gap: 12px;\n",
              "    }\n",
              "\n",
              "    .colab-df-convert {\n",
              "      background-color: #E8F0FE;\n",
              "      border: none;\n",
              "      border-radius: 50%;\n",
              "      cursor: pointer;\n",
              "      display: none;\n",
              "      fill: #1967D2;\n",
              "      height: 32px;\n",
              "      padding: 0 0 0 0;\n",
              "      width: 32px;\n",
              "    }\n",
              "\n",
              "    .colab-df-convert:hover {\n",
              "      background-color: #E2EBFA;\n",
              "      box-shadow: 0px 1px 2px rgba(60, 64, 67, 0.3), 0px 1px 3px 1px rgba(60, 64, 67, 0.15);\n",
              "      fill: #174EA6;\n",
              "    }\n",
              "\n",
              "    [theme=dark] .colab-df-convert {\n",
              "      background-color: #3B4455;\n",
              "      fill: #D2E3FC;\n",
              "    }\n",
              "\n",
              "    [theme=dark] .colab-df-convert:hover {\n",
              "      background-color: #434B5C;\n",
              "      box-shadow: 0px 1px 3px 1px rgba(0, 0, 0, 0.15);\n",
              "      filter: drop-shadow(0px 1px 2px rgba(0, 0, 0, 0.3));\n",
              "      fill: #FFFFFF;\n",
              "    }\n",
              "  </style>\n",
              "\n",
              "      <script>\n",
              "        const buttonEl =\n",
              "          document.querySelector('#df-dc8a3e85-984c-4c1b-96e2-106973e363ee button.colab-df-convert');\n",
              "        buttonEl.style.display =\n",
              "          google.colab.kernel.accessAllowed ? 'block' : 'none';\n",
              "\n",
              "        async function convertToInteractive(key) {\n",
              "          const element = document.querySelector('#df-dc8a3e85-984c-4c1b-96e2-106973e363ee');\n",
              "          const dataTable =\n",
              "            await google.colab.kernel.invokeFunction('convertToInteractive',\n",
              "                                                     [key], {});\n",
              "          if (!dataTable) return;\n",
              "\n",
              "          const docLinkHtml = 'Like what you see? Visit the ' +\n",
              "            '<a target=\"_blank\" href=https://colab.research.google.com/notebooks/data_table.ipynb>data table notebook</a>'\n",
              "            + ' to learn more about interactive tables.';\n",
              "          element.innerHTML = '';\n",
              "          dataTable['output_type'] = 'display_data';\n",
              "          await google.colab.output.renderOutput(dataTable, element);\n",
              "          const docLink = document.createElement('div');\n",
              "          docLink.innerHTML = docLinkHtml;\n",
              "          element.appendChild(docLink);\n",
              "        }\n",
              "      </script>\n",
              "    </div>\n",
              "  </div>\n",
              "  "
            ]
          },
          "metadata": {},
          "execution_count": 135
        }
      ]
    },
    {
      "cell_type": "code",
      "source": [
        "from nltk.corpus import stopwords\n",
        "from nltk.stem.porter import PorterStemmer\n",
        "import re"
      ],
      "metadata": {
        "id": "TGm-Sg0soLFj"
      },
      "execution_count": 9,
      "outputs": []
    },
    {
      "cell_type": "code",
      "source": [
        "ps = PorterStemmer()"
      ],
      "metadata": {
        "id": "wml_ckRBqo8K"
      },
      "execution_count": 10,
      "outputs": []
    },
    {
      "cell_type": "code",
      "source": [
        "corpus = [] "
      ],
      "metadata": {
        "id": "Y8083ofxrjXF"
      },
      "execution_count": 392,
      "outputs": []
    },
    {
      "cell_type": "code",
      "source": [
        "for i in range(len(dataset)):\n",
        "  tweet = dataset['OriginalTweet'][i]\n",
        "  tweet = tweet.lower()\n",
        "  tweet = re.sub(r'\\s+',' ',tweet)\n",
        "  tweet = re.sub(r'^[a-zA-Z]',' ',tweet)\n",
        "  corpus.append(tweet)"
      ],
      "metadata": {
        "id": "u2B3GUhdmb1t"
      },
      "execution_count": 393,
      "outputs": []
    },
    {
      "cell_type": "code",
      "source": [
        "corpus"
      ],
      "metadata": {
        "id": "Teu_jn0H8wse"
      },
      "execution_count": null,
      "outputs": []
    },
    {
      "cell_type": "code",
      "source": [
        "from sklearn.feature_extraction.text import TfidfVectorizer\n",
        "tfidf = TfidfVectorizer(max_features = 150, min_df = 3, max_df = 0.6)"
      ],
      "metadata": {
        "id": "YbwCCrTIfI7q"
      },
      "execution_count": 395,
      "outputs": []
    },
    {
      "cell_type": "code",
      "source": [
        "X = tfidf.fit_transform(corpus).toarray()"
      ],
      "metadata": {
        "id": "UqebP5BQfJse"
      },
      "execution_count": 396,
      "outputs": []
    },
    {
      "cell_type": "code",
      "source": [
        "y = dataset.Sentiment.factorize()[0]\n",
        "y"
      ],
      "metadata": {
        "id": "reTSJkswfMOT"
      },
      "execution_count": null,
      "outputs": []
    },
    {
      "cell_type": "code",
      "source": [
        "from sklearn.model_selection import train_test_split\n",
        "X_train,X_test,y_train,y_test = train_test_split(X,y,test_size=0.2,random_state=0)"
      ],
      "metadata": {
        "id": "L6njKhWzfRd5"
      },
      "execution_count": 398,
      "outputs": []
    },
    {
      "cell_type": "code",
      "source": [
        "from sklearn.neighbors import KNeighborsClassifier\n",
        "classifierKNN = KNeighborsClassifier(n_neighbors=5)\n",
        "classifierKNN.fit(X_train,y_train)"
      ],
      "metadata": {
        "id": "mgzRquf3fOk2",
        "colab": {
          "base_uri": "https://localhost:8080/"
        },
        "outputId": "f16c7c52-e29d-47ce-d109-2b436fa78682"
      },
      "execution_count": 399,
      "outputs": [
        {
          "output_type": "execute_result",
          "data": {
            "text/plain": [
              "KNeighborsClassifier()"
            ]
          },
          "metadata": {},
          "execution_count": 399
        }
      ]
    },
    {
      "cell_type": "code",
      "source": [
        "y_pred_knn = classifierKNN.predict(X_test)"
      ],
      "metadata": {
        "id": "giKeqIfwfTrh"
      },
      "execution_count": 400,
      "outputs": []
    },
    {
      "cell_type": "code",
      "source": [
        "from sklearn.metrics import confusion_matrix,accuracy_score\n",
        "cm_knn = confusion_matrix(y_test, y_pred_knn)\n",
        "cm_knn\n",
        "print(\"KNN Accuracy score\", accuracy_score(y_test, y_pred_knn))"
      ],
      "metadata": {
        "id": "1u2Kv6tAfV4F",
        "colab": {
          "base_uri": "https://localhost:8080/"
        },
        "outputId": "7d0b2383-6861-4177-cbd1-a3fd3d0b981e"
      },
      "execution_count": 401,
      "outputs": [
        {
          "output_type": "stream",
          "name": "stdout",
          "text": [
            "KNN Accuracy score 0.4444444444444444\n"
          ]
        }
      ]
    },
    {
      "cell_type": "code",
      "source": [
        "sample1 = ['Vaccine is best best best best precaution measure']\n",
        "sample2 = ['Vaccine is not helpful always panic']"
      ],
      "metadata": {
        "id": "0ziwgrHSfYkd"
      },
      "execution_count": 403,
      "outputs": []
    },
    {
      "cell_type": "code",
      "source": [
        "sample1 = tfidf.transform(sample1).toarray()\n",
        "sample2 = tfidf.transform(sample2).toarray()"
      ],
      "metadata": {
        "id": "lU6Fr1wnffDM"
      },
      "execution_count": 404,
      "outputs": []
    },
    {
      "cell_type": "code",
      "source": [
        "sentiment1 = classifierKNN.predict(sample1)\n",
        "sentiment1\n"
      ],
      "metadata": {
        "id": "tSlQKA96fhqH",
        "colab": {
          "base_uri": "https://localhost:8080/"
        },
        "outputId": "1df2ff45-eb58-4475-a915-8f27a16ee002"
      },
      "execution_count": 407,
      "outputs": [
        {
          "output_type": "execute_result",
          "data": {
            "text/plain": [
              "array([0])"
            ]
          },
          "metadata": {},
          "execution_count": 407
        }
      ]
    },
    {
      "cell_type": "code",
      "source": [
        "sentiment2 = classifierKNN.predict(sample2)\n",
        "sentiment2"
      ],
      "metadata": {
        "id": "FrlJwWIcfms-",
        "colab": {
          "base_uri": "https://localhost:8080/"
        },
        "outputId": "379f8685-2d6d-4ede-fed2-67b3acacfd08"
      },
      "execution_count": 408,
      "outputs": [
        {
          "output_type": "execute_result",
          "data": {
            "text/plain": [
              "array([2])"
            ]
          },
          "metadata": {},
          "execution_count": 408
        }
      ]
    },
    {
      "cell_type": "markdown",
      "source": [
        "**Twitter sentiment live prediction**"
      ],
      "metadata": {
        "id": "pbf3DFy2Ieda"
      }
    },
    {
      "cell_type": "code",
      "execution_count": 409,
      "metadata": {
        "id": "w07jociMgFxa"
      },
      "outputs": [],
      "source": [
        "import tweepy"
      ]
    },
    {
      "cell_type": "code",
      "source": [
        "consumer_key='LEyiXvdcqVd1hOQacbBhvP0Mk'\n",
        "consumer_secret='qqxTIhBfbowDg4xHSsaguJCt4orfhrhfIS6ZKYPBreDAseOrl1'\n",
        "access_token='1515671963376791552-ulGIWc5zJVV2H8tuI13lGfpH2L3Yat'\n",
        "access_secret='Ac2j4UnXtOljvHNcN5nCcICmg9tncV9Celpc3KqB0wVwW'"
      ],
      "metadata": {
        "id": "DA5esVPrvTv-"
      },
      "execution_count": 410,
      "outputs": []
    },
    {
      "cell_type": "code",
      "source": [
        "auth = tweepy.OAuthHandler(consumer_key, consumer_secret)\n",
        "auth.set_access_token(access_token, access_secret)"
      ],
      "metadata": {
        "id": "uA2o4Dw8qWuB"
      },
      "execution_count": 411,
      "outputs": []
    },
    {
      "cell_type": "code",
      "source": [
        "api = tweepy.API(auth, timeout=20)"
      ],
      "metadata": {
        "id": "PjhtVsJqqwqQ"
      },
      "execution_count": 412,
      "outputs": []
    },
    {
      "cell_type": "code",
      "source": [
        "tweet_text = 'vaccine'\n",
        "tweets_list = []"
      ],
      "metadata": {
        "id": "dlOfkpbGq8v6"
      },
      "execution_count": 413,
      "outputs": []
    },
    {
      "cell_type": "code",
      "source": [
        "for status in tweepy.Cursor(api.search, q = tweet_text, lang = 'en', result_type = 'recent').items(500):\n",
        "      tweets_list.append(status.text)"
      ],
      "metadata": {
        "id": "3F46r9rtrJJX"
      },
      "execution_count": null,
      "outputs": []
    },
    {
      "cell_type": "code",
      "source": [
        "len(tweets_list)"
      ],
      "metadata": {
        "id": "hP_S4O2ExK2s",
        "colab": {
          "base_uri": "https://localhost:8080/"
        },
        "outputId": "fa720754-b40c-43b5-b657-a0c65bc08487"
      },
      "execution_count": 71,
      "outputs": [
        {
          "output_type": "execute_result",
          "data": {
            "text/plain": [
              "0"
            ]
          },
          "metadata": {},
          "execution_count": 71
        }
      ]
    },
    {
      "cell_type": "code",
      "source": [
        "for i in range(len(tweets_list)):\n",
        "  tweet = re.sub(r'\\W',' ',tweets_list[i])\n",
        "  tweet = re.sub(r'\\s+',' ',tweets_list[i])\n",
        "  tweet = re.sub('[^a-zA-Z]',' ',tweets_list[i])\n",
        "  tweet = tweet.lower()\n",
        "  tweet = tweet.split()\n",
        "  clean_tweet = [ps.stem(word) for word in customer_review if not word in set(stopwords.words('english'))]\n",
        "  clean_tweet = ' '.join(clean_tweets)\n",
        "  tweets_list[i] = clean_tweet"
      ],
      "metadata": {
        "id": "dpr_N9ZfyI1v"
      },
      "execution_count": 72,
      "outputs": []
    },
    {
      "cell_type": "code",
      "source": [
        "tweets_list[9]"
      ],
      "metadata": {
        "id": "CzcJH0-KgyK3"
      },
      "execution_count": null,
      "outputs": []
    },
    {
      "cell_type": "code",
      "source": [
        "#load tf-idf model and text classifier\n"
      ],
      "metadata": {
        "id": "1CQmOihWztW2"
      },
      "execution_count": null,
      "outputs": []
    },
    {
      "cell_type": "code",
      "source": [
        "#predict live tweets\n",
        "for tweet in twist_list:\n",
        "    sentiment = classifierKNN.predict(tfidf.transform([tweet]).toarray())\n",
        "    if sentiment[0] == 1:\n",
        "      positive_tweet +=1\n",
        "    else:\n",
        "      negative_tweet +=1   "
      ],
      "metadata": {
        "id": "URVRgCmzJesD"
      },
      "execution_count": null,
      "outputs": []
    }
  ]
}